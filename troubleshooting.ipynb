{
 "cells": [
  {
   "cell_type": "code",
   "execution_count": 2,
   "metadata": {},
   "outputs": [],
   "source": [
    "event = dict({'resource': '/cloudapi', 'path': '/cloudapi', 'httpMethod': 'POST', 'headers': {'Accept': '*/*', 'Accept-Encoding': 'deflate, gzip', 'CloudFront-Forwarded-Proto': 'https', 'CloudFront-Is-Desktop-Viewer': 'true', 'CloudFront-Is-Mobile-Viewer': 'false', 'CloudFront-Is-SmartTV-Viewer': 'false', 'CloudFront-Is-Tablet-Viewer': 'false', 'CloudFront-Viewer-ASN': '32934', 'CloudFront-Viewer-Country': 'US', 'Content-Type': 'application/json', 'Host': '9uxj5nkts6.execute-api.us-east-1.amazonaws.com', 'User-Agent': 'facebookexternalua', 'Via': '1.1 2241406ac19fffc8f35d6ddef8e22f56.cloudfront.net (CloudFront)', 'X-Amz-Cf-Id': 'SNIPRRpysDykeZv0OUVNfR5qiNmmtoMzbwtVnjkf-VhdEXk0iS1psg==', 'X-Amzn-Trace-Id': 'Root=1-664b7adb-7b3f25b66def534e584f3190', 'X-Forwarded-For': '66.220.149.4, 64.252.140.134', 'X-Forwarded-Port': '443', 'X-Forwarded-Proto': 'https', 'X-Hub-Signature': 'sha1=f51bc602c48e3b05378e855f8b6e3568ad3a93b7', 'X-Hub-Signature-256': 'sha256=78d5dbc371008b78b36c2a5e9ef5e4596aca597724c62217aa3d1e0332020959'}, 'multiValueHeaders': {'Accept': ['*/*'], 'Accept-Encoding': ['deflate, gzip'], 'CloudFront-Forwarded-Proto': ['https'], 'CloudFront-Is-Desktop-Viewer': ['true'], 'CloudFront-Is-Mobile-Viewer': ['false'], 'CloudFront-Is-SmartTV-Viewer': ['false'], 'CloudFront-Is-Tablet-Viewer': ['false'], 'CloudFront-Viewer-ASN': ['32934'], 'CloudFront-Viewer-Country': ['US'], 'Content-Type': ['application/json'], 'Host': ['9uxj5nkts6.execute-api.us-east-1.amazonaws.com'], 'User-Agent': ['facebookexternalua'], 'Via': ['1.1 2241406ac19fffc8f35d6ddef8e22f56.cloudfront.net (CloudFront)'], 'X-Amz-Cf-Id': ['SNIPRRpysDykeZv0OUVNfR5qiNmmtoMzbwtVnjkf-VhdEXk0iS1psg=='], 'X-Amzn-Trace-Id': ['Root=1-664b7adb-7b3f25b66def534e584f3190'], 'X-Forwarded-For': ['66.220.149.4, 64.252.140.134'], 'X-Forwarded-Port': ['443'], 'X-Forwarded-Proto': ['https'], 'X-Hub-Signature': ['sha1=f51bc602c48e3b05378e855f8b6e3568ad3a93b7'], 'X-Hub-Signature-256': ['sha256=78d5dbc371008b78b36c2a5e9ef5e4596aca597724c62217aa3d1e0332020959']}, 'queryStringParameters': None, 'multiValueQueryStringParameters': None, 'pathParameters': None, 'stageVariables': None, 'requestContext': {'resourceId': '921m0q', 'resourcePath': '/cloudapi', 'httpMethod': 'POST', 'extendedRequestId': 'YFAiRH6noAMETXA=', 'requestTime': '20/May/2024:16:31:23 +0000', 'path': '/prod/cloudapi', 'accountId': '486890895785', 'protocol': 'HTTP/1.1', 'stage': 'prod', 'domainPrefix': '9uxj5nkts6', 'requestTimeEpoch': 1716222683034, 'requestId': '4c8082d2-c172-494b-b4ae-463e5c03a924', 'identity': {'cognitoIdentityPoolId': None, 'accountId': None, 'cognitoIdentityId': None, 'caller': None, 'sourceIp': '66.220.149.4', 'principalOrgId': None, 'accessKey': None, 'cognitoAuthenticationType': None, 'cognitoAuthenticationProvider': None, 'userArn': None, 'userAgent': 'facebookexternalua', 'user': None}, 'domainName': '9uxj5nkts6.execute-api.us-east-1.amazonaws.com', 'deploymentId': 'a6oyyh', 'apiId': '9uxj5nkts6'}, 'body': '{\"object\":\"whatsapp_business_account\",\"entry\":[{\"id\":\"321122581082103\",\"changes\":[{\"value\":{\"messaging_product\":\"whatsapp\",\"metadata\":{\"display_phone_number\":\"15556019770\",\"phone_number_id\":\"338436819344411\"},\"statuses\":[{\"id\":\"wamid.HBgNNTIxNTU1NDM2OTI1NRUCABEYEkEyMzJENDBDRDIyREFFMDA0MQA=\",\"status\":\"sent\",\"timestamp\":\"1715969064\",\"recipient_id\":\"5215554369255\",\"conversation\":{\"id\":\"9a78581db403f24ab399951ed9937a1d\",\"expiration_timestamp\":\"1715989620\",\"origin\":{\"type\":\"service\"}},\"pricing\":{\"billable\":true,\"pricing_model\":\"CBP\",\"category\":\"service\"}}]},\"field\":\"messages\"}]}]}', 'isBase64Encoded': False})"
   ]
  },
  {
   "cell_type": "code",
   "execution_count": 6,
   "metadata": {},
   "outputs": [],
   "source": [
    "import json\n",
    "from pprint import pprint"
   ]
  },
  {
   "cell_type": "code",
   "execution_count": 3,
   "metadata": {},
   "outputs": [],
   "source": [
    "body = json.loads(event['body'])"
   ]
  },
  {
   "cell_type": "code",
   "execution_count": 4,
   "metadata": {},
   "outputs": [
    {
     "ename": "KeyError",
     "evalue": "'contacts'",
     "output_type": "error",
     "traceback": [
      "\u001b[1;31m---------------------------------------------------------------------------\u001b[0m",
      "\u001b[1;31mKeyError\u001b[0m                                  Traceback (most recent call last)",
      "Cell \u001b[1;32mIn[4], line 1\u001b[0m\n\u001b[1;32m----> 1\u001b[0m wa_id \u001b[38;5;241m=\u001b[39m \u001b[43mbody\u001b[49m\u001b[43m[\u001b[49m\u001b[38;5;124;43m'\u001b[39;49m\u001b[38;5;124;43mentry\u001b[39;49m\u001b[38;5;124;43m'\u001b[39;49m\u001b[43m]\u001b[49m\u001b[43m[\u001b[49m\u001b[38;5;241;43m0\u001b[39;49m\u001b[43m]\u001b[49m\u001b[43m[\u001b[49m\u001b[38;5;124;43m'\u001b[39;49m\u001b[38;5;124;43mchanges\u001b[39;49m\u001b[38;5;124;43m'\u001b[39;49m\u001b[43m]\u001b[49m\u001b[43m[\u001b[49m\u001b[38;5;241;43m0\u001b[39;49m\u001b[43m]\u001b[49m\u001b[43m[\u001b[49m\u001b[38;5;124;43m'\u001b[39;49m\u001b[38;5;124;43mvalue\u001b[39;49m\u001b[38;5;124;43m'\u001b[39;49m\u001b[43m]\u001b[49m\u001b[43m[\u001b[49m\u001b[38;5;124;43m'\u001b[39;49m\u001b[38;5;124;43mcontacts\u001b[39;49m\u001b[38;5;124;43m'\u001b[39;49m\u001b[43m]\u001b[49m[\u001b[38;5;241m0\u001b[39m][\u001b[38;5;124m'\u001b[39m\u001b[38;5;124mwa_id\u001b[39m\u001b[38;5;124m'\u001b[39m]\n",
      "\u001b[1;31mKeyError\u001b[0m: 'contacts'"
     ]
    }
   ],
   "source": [
    "wa_id = body['entry'][0]['changes'][0]['value']['contacts'][0]['wa_id']"
   ]
  },
  {
   "cell_type": "code",
   "execution_count": 8,
   "metadata": {},
   "outputs": [
    {
     "name": "stdout",
     "output_type": "stream",
     "text": [
      "{'entry': [{'changes': [{'field': 'messages',\n",
      "                         'value': {'messaging_product': 'whatsapp',\n",
      "                                   'metadata': {'display_phone_number': '15556019770',\n",
      "                                                'phone_number_id': '338436819344411'},\n",
      "                                   'statuses': [{'conversation': {'expiration_timestamp': '1715989620',\n",
      "                                                                  'id': '9a78581db403f24ab399951ed9937a1d',\n",
      "                                                                  'origin': {'type': 'service'}},\n",
      "                                                 'id': 'wamid.HBgNNTIxNTU1NDM2OTI1NRUCABEYEkEyMzJENDBDRDIyREFFMDA0MQA=',\n",
      "                                                 'pricing': {'billable': True,\n",
      "                                                             'category': 'service',\n",
      "                                                             'pricing_model': 'CBP'},\n",
      "                                                 'recipient_id': '5215554369255',\n",
      "                                                 'status': 'sent',\n",
      "                                                 'timestamp': '1715969064'}]}}],\n",
      "            'id': '321122581082103'}],\n",
      " 'object': 'whatsapp_business_account'}\n"
     ]
    }
   ],
   "source": [
    "pprint(body)"
   ]
  },
  {
   "cell_type": "code",
   "execution_count": 15,
   "metadata": {},
   "outputs": [],
   "source": [
    "event = dict({'version': '0', 'id': '006ef9de-81f4-cd45-2174-9174263c5924', 'detail-type': 'Transcribe Job State Change', 'source': 'aws.transcribe', 'account': '486890895785', 'time': '2024-05-20T17:16:43Z', 'region': 'us-east-1', 'resources': [], 'detail': {'TranscriptionJobName': '460044553345078', 'TranscriptionJobStatus': 'COMPLETED'}})"
   ]
  },
  {
   "cell_type": "code",
   "execution_count": 20,
   "metadata": {},
   "outputs": [
    {
     "data": {
      "text/plain": [
       "'460044553345078'"
      ]
     },
     "execution_count": 20,
     "metadata": {},
     "output_type": "execute_result"
    }
   ],
   "source": [
    "event['detail']['TranscriptionJobName']"
   ]
  },
  {
   "cell_type": "code",
   "execution_count": 12,
   "metadata": {},
   "outputs": [],
   "source": [
    "wa_id = body['entry'][0]['changes'][0]['value']['contacts'][0]['wa_id']"
   ]
  },
  {
   "cell_type": "code",
   "execution_count": 23,
   "metadata": {},
   "outputs": [],
   "source": [
    "body = json.dumps(event)"
   ]
  },
  {
   "cell_type": "code",
   "execution_count": 24,
   "metadata": {},
   "outputs": [
    {
     "name": "stdout",
     "output_type": "stream",
     "text": [
      "('{\"version\": \"0\", \"id\": \"006ef9de-81f4-cd45-2174-9174263c5924\", '\n",
      " '\"detail-type\": \"Transcribe Job State Change\", \"source\": \"aws.transcribe\", '\n",
      " '\"account\": \"486890895785\", \"time\": \"2024-05-20T17:16:43Z\", \"region\": '\n",
      " '\"us-east-1\", \"resources\": [], \"detail\": {\"TranscriptionJobName\": '\n",
      " '\"460044553345078\", \"TranscriptionJobStatus\": \"COMPLETED\"}}')\n"
     ]
    }
   ],
   "source": [
    "pprint(body)"
   ]
  },
  {
   "cell_type": "code",
   "execution_count": 28,
   "metadata": {},
   "outputs": [],
   "source": [
    "key = 'text-to-whatsapp/texto_927762605762898'\n",
    "\n",
    "keyvalue = key.split(\"/\")[-2]\n",
    "filename = key.split(\"/\")[-1]"
   ]
  },
  {
   "cell_type": "code",
   "execution_count": 29,
   "metadata": {},
   "outputs": [
    {
     "name": "stdout",
     "output_type": "stream",
     "text": [
      "keyvalue: text-to-whatsapp, filename = texto_927762605762898\n"
     ]
    }
   ],
   "source": [
    "print(f'keyvalue: {keyvalue}, filename = {filename}')"
   ]
  }
 ],
 "metadata": {
  "kernelspec": {
   "display_name": ".venv",
   "language": "python",
   "name": "python3"
  },
  "language_info": {
   "codemirror_mode": {
    "name": "ipython",
    "version": 3
   },
   "file_extension": ".py",
   "mimetype": "text/x-python",
   "name": "python",
   "nbconvert_exporter": "python",
   "pygments_lexer": "ipython3",
   "version": "3.10.4"
  }
 },
 "nbformat": 4,
 "nbformat_minor": 2
}
